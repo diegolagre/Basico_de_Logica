{
 "cells": [
  {
   "cell_type": "code",
   "execution_count": 7,
   "id": "faba9046-0640-4c9b-930c-07cae7239040",
   "metadata": {},
   "outputs": [],
   "source": [
    "def max(a, b):\n",
    "    if a > b:\n",
    "        print(a)\n",
    "    elif a < b:\n",
    "        print(b)\n",
    "    else:\n",
    "        print (\"son iguales\")"
   ]
  },
  {
   "cell_type": "code",
   "execution_count": 22,
   "id": "8c78d1f4-ccdb-4516-a7a9-4753efa168f4",
   "metadata": {},
   "outputs": [
    {
     "name": "stdout",
     "output_type": "stream",
     "text": [
      "4\n"
     ]
    }
   ],
   "source": [
    "a = 2\n",
    "b = 4\n",
    "c = 2\n",
    "max(a, b)"
   ]
  },
  {
   "cell_type": "code",
   "execution_count": 23,
   "id": "5364f0f0-692a-4a54-a881-1a325dff6571",
   "metadata": {},
   "outputs": [
    {
     "name": "stdout",
     "output_type": "stream",
     "text": [
      "4\n"
     ]
    }
   ],
   "source": [
    "def max_3 (a, b, c):\n",
    "    if a > b and c:\n",
    "        print(a)\n",
    "    elif b > a and c:\n",
    "        print(b)\n",
    "    elif c > a and b:\n",
    "        print(c)\n",
    "    else:\n",
    "        print(\"no entiendo nada\")\n",
    "max_3(a, b, c)"
   ]
  },
  {
   "cell_type": "code",
   "execution_count": 37,
   "id": "6d64358f-43a7-4289-ae1d-a0ad789d42a9",
   "metadata": {},
   "outputs": [
    {
     "data": {
      "text/plain": [
       "('la longitud es', 16)"
      ]
     },
     "execution_count": 37,
     "metadata": {},
     "output_type": "execute_result"
    }
   ],
   "source": [
    "def long (argumento):\n",
    "    contar = 0\n",
    "    for n in argumento:\n",
    "        contar += 1\n",
    "    return ('la longitud es',contar)\n",
    "\n",
    "argumento = (\"agarralapalavago\")\n",
    "long(argumento)\n",
    "        \n",
    "    \n",
    "    "
   ]
  },
  {
   "cell_type": "code",
   "execution_count": 40,
   "id": "d47ae9a8-e3f2-4ec8-999c-9a0418bef6ca",
   "metadata": {},
   "outputs": [
    {
     "data": {
      "text/plain": [
       "'agarralapalavago'"
      ]
     },
     "execution_count": 40,
     "metadata": {},
     "output_type": "execute_result"
    }
   ],
   "source": [
    "argumento"
   ]
  },
  {
   "cell_type": "code",
   "execution_count": 46,
   "id": "4223a03b-0933-4589-98a1-8dcb17fe234e",
   "metadata": {},
   "outputs": [
    {
     "data": {
      "text/plain": [
       "True"
      ]
     },
     "execution_count": 46,
     "metadata": {},
     "output_type": "execute_result"
    }
   ],
   "source": [
    "def es_vocal(letra):\n",
    "    if letra in lista:\n",
    "        return (True)\n",
    "    else:\n",
    "        return (False)\n",
    "\n",
    "letra = \"a\"\n",
    "lista = (\"a\", \"e\", \"i\", \"o\", \"u\", \"A\", \"E\", \"I\", \"O\", \"U\")\n",
    "es_vocal(letra)"
   ]
  },
  {
   "cell_type": "code",
   "execution_count": 47,
   "id": "1a740b32-61b3-4e99-8ae4-7c9fe8471a01",
   "metadata": {},
   "outputs": [
    {
     "data": {
      "text/plain": [
       "10"
      ]
     },
     "execution_count": 47,
     "metadata": {},
     "output_type": "execute_result"
    }
   ],
   "source": [
    "def suma(lista_suma):\n",
    "    sumar = 0\n",
    "    for n in lista_suma:\n",
    "        sumar += n\n",
    "    return (sumar)\n",
    "\n",
    "lista_suma = (1, 2, 3, 4)\n",
    "suma(lista_suma)\n",
    "        "
   ]
  },
  {
   "cell_type": "code",
   "execution_count": 52,
   "id": "c9cb0143-ca1f-4a77-8a3a-144fcc5fd6a9",
   "metadata": {},
   "outputs": [
    {
     "data": {
      "text/plain": [
       "24"
      ]
     },
     "execution_count": 52,
     "metadata": {},
     "output_type": "execute_result"
    }
   ],
   "source": [
    "def multip(lista_multip):\n",
    "    multip = 1\n",
    "    for n in lista_multip:\n",
    "        multip *= n\n",
    "    return (multip)\n",
    "\n",
    "lista_multip = (1, 2, 3, 4)\n",
    "multip(lista_multip)"
   ]
  },
  {
   "cell_type": "code",
   "execution_count": 54,
   "id": "15e0582f-0bc6-4802-b1d4-cfbdb41e5cb1",
   "metadata": {},
   "outputs": [
    {
     "data": {
      "text/plain": [
       "100"
      ]
     },
     "execution_count": 54,
     "metadata": {},
     "output_type": "execute_result"
    }
   ],
   "source": [
    "def max_in_list(lista_max):\n",
    "    inicio = 0\n",
    "    for i in lista_max:\n",
    "        if i > inicio:\n",
    "            inicio = i\n",
    "    return (inicio)\n",
    "\n",
    "lista_max = (1, 2, 3, 4, 5, 6, 7, 8, 100, 50)\n",
    "max_in_list(lista_max)\n",
    "    "
   ]
  },
  {
   "cell_type": "code",
   "execution_count": 63,
   "id": "96a0030e-36d0-44e5-88bf-c4f3421f3009",
   "metadata": {},
   "outputs": [
    {
     "data": {
      "text/plain": [
       "'avestruces'"
      ]
     },
     "execution_count": 63,
     "metadata": {},
     "output_type": "execute_result"
    }
   ],
   "source": [
    "def mas_larga(lista_palabras):\n",
    "    mas_larga = \"\"\n",
    "    for i in lista_palabras:\n",
    "        if len(i) > len(mas_larga):\n",
    "            mas_larga = i\n",
    "    return (mas_larga)\n",
    "\n",
    "lista_palabras = (\"leon\", \"perro\", \"gatoss\", \"elefante\", \"avestruces\")\n",
    "mas_larga(lista_palabras)"
   ]
  },
  {
   "cell_type": "code",
   "execution_count": 84,
   "id": "6d3cbc65-429c-4f99-864e-1867a3c31750",
   "metadata": {},
   "outputs": [
    {
     "data": {
      "text/plain": [
       "'gatoss'"
      ]
     },
     "execution_count": 84,
     "metadata": {},
     "output_type": "execute_result"
    }
   ],
   "source": [
    "# este ejercicio lo hice yo pero solo muestra una palabra sola\n",
    "\n",
    "lista_palabras = (\"leon\", \"perro\", \"gatoss\")\n",
    "def filtrar_palabras(lista_palabras):\n",
    "    # entero = 2\n",
    "    mas_larga_que =\"\"\n",
    "    for i in lista_palabras:\n",
    "        if len(i) >= entero:\n",
    "            mas_larga_que = i\n",
    "    return (mas_larga_que)\n",
    "\n",
    "entero =3\n",
    "filtrar_palabras(lista_palabras)"
   ]
  },
  {
   "cell_type": "code",
   "execution_count": 110,
   "id": "cba46744-5c34-400d-a55e-71717b60baed",
   "metadata": {},
   "outputs": [
    {
     "name": "stdout",
     "output_type": "stream",
     "text": [
      "leon\n",
      "perro\n",
      "gatoss\n"
     ]
    }
   ],
   "source": [
    "lista_palabras = (\"leon\", \"perro\", \"gatoss\")\n",
    "\n",
    "def filtrar_palabras(lista_palabras, n):\n",
    "    for i in lista_palabras:\n",
    "        if len(i) >= n:\n",
    "            print(i)\n",
    "n = 3\n",
    "filtrar_palabras(lista_palabras, n)"
   ]
  },
  {
   "cell_type": "code",
   "execution_count": 108,
   "id": "7b82dab1-3c04-4fe3-8677-9f83451594f4",
   "metadata": {},
   "outputs": [
    {
     "name": "stdin",
     "output_type": "stream",
     "text": [
      "Ingresa el anio en curso:  2021\n",
      "Nombre de la persona:  diego\n",
      "Anio de nacimiento:  1978\n"
     ]
    },
    {
     "ename": "TypeError",
     "evalue": "unsupported operand type(s) for -: 'str' and 'str'",
     "output_type": "error",
     "traceback": [
      "\u001b[1;31m---------------------------------------------------------------------------\u001b[0m",
      "\u001b[1;31mTypeError\u001b[0m                                 Traceback (most recent call last)",
      "\u001b[1;32m<ipython-input-108-7cb9541a0b5a>\u001b[0m in \u001b[0;36m<module>\u001b[1;34m\u001b[0m\n\u001b[0;32m      8\u001b[0m         \u001b[0mprint\u001b[0m  \u001b[1;33m(\u001b[0m\u001b[0mnombre\u001b[0m\u001b[1;33m,\u001b[0m \u001b[1;34m\"cumple\"\u001b[0m\u001b[1;33m,\u001b[0m \u001b[1;33m(\u001b[0m\u001b[0ma_curso\u001b[0m \u001b[1;33m-\u001b[0m \u001b[0mnacimiento\u001b[0m\u001b[1;33m)\u001b[0m\u001b[1;33m,\u001b[0m \u001b[1;34m\"anios en el\"\u001b[0m\u001b[1;33m,\u001b[0m \u001b[0ma_curso\u001b[0m\u001b[1;33m)\u001b[0m\u001b[1;33m\u001b[0m\u001b[1;33m\u001b[0m\u001b[0m\n\u001b[0;32m      9\u001b[0m \u001b[1;33m\u001b[0m\u001b[0m\n\u001b[1;32m---> 10\u001b[1;33m \u001b[0mmain\u001b[0m\u001b[1;33m(\u001b[0m\u001b[1;33m)\u001b[0m\u001b[1;33m\u001b[0m\u001b[1;33m\u001b[0m\u001b[0m\n\u001b[0m",
      "\u001b[1;32m<ipython-input-108-7cb9541a0b5a>\u001b[0m in \u001b[0;36mmain\u001b[1;34m()\u001b[0m\n\u001b[0;32m      6\u001b[0m         \u001b[0mnacimiento\u001b[0m \u001b[1;33m=\u001b[0m \u001b[0minput\u001b[0m \u001b[1;33m(\u001b[0m\u001b[1;34m\"Anio de nacimiento: \"\u001b[0m\u001b[1;33m)\u001b[0m\u001b[1;33m\u001b[0m\u001b[1;33m\u001b[0m\u001b[0m\n\u001b[0;32m      7\u001b[0m         \u001b[0mfloat\u001b[0m\u001b[1;33m(\u001b[0m\u001b[0mnacimiento\u001b[0m\u001b[1;33m)\u001b[0m\u001b[1;33m\u001b[0m\u001b[1;33m\u001b[0m\u001b[0m\n\u001b[1;32m----> 8\u001b[1;33m         \u001b[0mprint\u001b[0m  \u001b[1;33m(\u001b[0m\u001b[0mnombre\u001b[0m\u001b[1;33m,\u001b[0m \u001b[1;34m\"cumple\"\u001b[0m\u001b[1;33m,\u001b[0m \u001b[1;33m(\u001b[0m\u001b[0ma_curso\u001b[0m \u001b[1;33m-\u001b[0m \u001b[0mnacimiento\u001b[0m\u001b[1;33m)\u001b[0m\u001b[1;33m,\u001b[0m \u001b[1;34m\"anios en el\"\u001b[0m\u001b[1;33m,\u001b[0m \u001b[0ma_curso\u001b[0m\u001b[1;33m)\u001b[0m\u001b[1;33m\u001b[0m\u001b[1;33m\u001b[0m\u001b[0m\n\u001b[0m\u001b[0;32m      9\u001b[0m \u001b[1;33m\u001b[0m\u001b[0m\n\u001b[0;32m     10\u001b[0m \u001b[0mmain\u001b[0m\u001b[1;33m(\u001b[0m\u001b[1;33m)\u001b[0m\u001b[1;33m\u001b[0m\u001b[1;33m\u001b[0m\u001b[0m\n",
      "\u001b[1;31mTypeError\u001b[0m: unsupported operand type(s) for -: 'str' and 'str'"
     ]
    }
   ],
   "source": [
    "def main():\n",
    "    a_curso = input (\"Ingresa el anio en curso: \")\n",
    "    float(a_curso)\n",
    "    for i  in range (3):\n",
    "        nombre = input (\"Nombre de la persona: \")\n",
    "        nacimiento = input (\"Anio de nacimiento: \")\n",
    "        float(nacimiento)\n",
    "        print  (nombre, \"cumple\", (a_curso - nacimiento), \"anios en el\", a_curso)\n",
    "        \n",
    "main()"
   ]
  },
  {
   "cell_type": "code",
   "execution_count": 109,
   "id": "7ed87937-c8aa-4f38-9a60-0f944d4575d0",
   "metadata": {},
   "outputs": [
    {
     "data": {
      "text/plain": [
       "1.0"
      ]
     },
     "execution_count": 109,
     "metadata": {},
     "output_type": "execute_result"
    }
   ],
   "source": [
    "nombre = 1\n",
    "nombre\n",
    "float(nombre)"
   ]
  },
  {
   "cell_type": "code",
   "execution_count": 107,
   "id": "bcec9847-7e3d-480e-b9ef-da2ddb330a0d",
   "metadata": {},
   "outputs": [
    {
     "ename": "TypeError",
     "evalue": "can only concatenate str (not \"int\") to str",
     "output_type": "error",
     "traceback": [
      "\u001b[1;31m---------------------------------------------------------------------------\u001b[0m",
      "\u001b[1;31mTypeError\u001b[0m                                 Traceback (most recent call last)",
      "\u001b[1;32m<ipython-input-107-c28bf6d2a481>\u001b[0m in \u001b[0;36m<module>\u001b[1;34m\u001b[0m\n\u001b[1;32m----> 1\u001b[1;33m \u001b[0mnombre\u001b[0m \u001b[1;33m+\u001b[0m \u001b[1;36m123\u001b[0m\u001b[1;33m\u001b[0m\u001b[1;33m\u001b[0m\u001b[0m\n\u001b[0m",
      "\u001b[1;31mTypeError\u001b[0m: can only concatenate str (not \"int\") to str"
     ]
    }
   ],
   "source": [
    "nombre + 123"
   ]
  },
  {
   "cell_type": "code",
   "execution_count": 117,
   "id": "46d73f69-b297-4680-bc67-1de1663ca44e",
   "metadata": {},
   "outputs": [
    {
     "name": "stdout",
     "output_type": "stream",
     "text": [
      "es menor a n\n",
      "es menor a n\n",
      "es menor a n\n"
     ]
    },
    {
     "data": {
      "text/plain": [
       "7"
      ]
     },
     "execution_count": 117,
     "metadata": {},
     "output_type": "execute_result"
    }
   ],
   "source": [
    "def edad_mayor(lista_edad):\n",
    "    cantidad = 0\n",
    "    for i in lista_edad:\n",
    "        if i > n:\n",
    "            cantidad += 1\n",
    "        else:\n",
    "            print(\"es menor a n\")\n",
    "    return(cantidad)\n",
    "\n",
    "lista_edad = [10, 20, 30, 40, 50, 60, 70, 80, 90, 100]\n",
    "n = 39\n",
    "edad_mayor(lista_edad)"
   ]
  },
  {
   "cell_type": "code",
   "execution_count": null,
   "id": "5d8efa23-174e-439f-be68-665a3b5c791b",
   "metadata": {},
   "outputs": [],
   "source": []
  }
 ],
 "metadata": {
  "kernelspec": {
   "display_name": "Python 3",
   "language": "python",
   "name": "python3"
  },
  "language_info": {
   "codemirror_mode": {
    "name": "ipython",
    "version": 3
   },
   "file_extension": ".py",
   "mimetype": "text/x-python",
   "name": "python",
   "nbconvert_exporter": "python",
   "pygments_lexer": "ipython3",
   "version": "3.8.8"
  }
 },
 "nbformat": 4,
 "nbformat_minor": 5
}

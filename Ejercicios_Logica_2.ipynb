{
 "cells": [
  {
   "cell_type": "markdown",
   "id": "0e7f4e68-7da0-4bd8-95ab-9e84da21ba63",
   "metadata": {},
   "source": [
    "#### 1. Escribir una función max_in_list() que tome una lista de números y devuelva el mas grande."
   ]
  },
  {
   "cell_type": "code",
   "execution_count": 4,
   "id": "86bd98d1-026e-4464-95e8-c2c262ee271f",
   "metadata": {},
   "outputs": [],
   "source": [
    "def max_in_list (lista_0):\n",
    "    inicio = 0\n",
    "    for i in lista_0:\n",
    "        if i > inicio:\n",
    "            inicio = i\n",
    "    return inicio"
   ]
  },
  {
   "cell_type": "code",
   "execution_count": 10,
   "id": "4041714c-4191-4097-9317-0bbba7a05e0c",
   "metadata": {},
   "outputs": [
    {
     "data": {
      "text/plain": [
       "7"
      ]
     },
     "execution_count": 10,
     "metadata": {},
     "output_type": "execute_result"
    }
   ],
   "source": [
    "lista_0 =(7, 2, 3, 4, 5, 0)\n",
    "max_in_list (lista_0)"
   ]
  },
  {
   "cell_type": "markdown",
   "id": "fe24c5c1-c820-463c-9a9a-f2297cd63007",
   "metadata": {},
   "source": [
    "#### 2. Escribir una función mas_larga() que tome una lista de palabras y devuelva la mas larga."
   ]
  },
  {
   "cell_type": "code",
   "execution_count": 11,
   "id": "305ce7cb-02b6-4fd3-9171-28f6349db7a8",
   "metadata": {},
   "outputs": [],
   "source": [
    "def mas_larga (lista_1):\n",
    "    mas_larga = \"\"\n",
    "    for i in lista_1:\n",
    "        if len(i) > len(mas_larga):\n",
    "            mas_larga = i\n",
    "    return mas_larga\n",
    "    "
   ]
  },
  {
   "cell_type": "code",
   "execution_count": 13,
   "id": "5d423266-e16d-47e2-ac6c-c659e4971252",
   "metadata": {},
   "outputs": [
    {
     "data": {
      "text/plain": [
       "'pablooooooo'"
      ]
     },
     "execution_count": 13,
     "metadata": {},
     "output_type": "execute_result"
    }
   ],
   "source": [
    "lista_1 = (\"sandra\", \"pablooooooo\", \"dieguito\", \"nere\")\n",
    "mas_larga (lista_1)"
   ]
  },
  {
   "cell_type": "markdown",
   "id": "e226e464-0a5c-4fef-a7e8-d84a2b369661",
   "metadata": {},
   "source": [
    "#### 3. Escribir una función filtrar_palabras() que tome una lista de palabras y un entero n, y devuelva las palabras que tengan mas de n caracteres."
   ]
  },
  {
   "cell_type": "code",
   "execution_count": 14,
   "id": "a06d559b-c873-4beb-844d-eb8f31e3a67c",
   "metadata": {},
   "outputs": [],
   "source": [
    "def filtrar_palabras(lista_2, n):\n",
    "    for i in lista_2:\n",
    "        if len(i) > n:\n",
    "            print(i)"
   ]
  },
  {
   "cell_type": "code",
   "execution_count": 15,
   "id": "d30a5910-6b4c-47a1-8c1c-e9dedd85dcdb",
   "metadata": {},
   "outputs": [
    {
     "name": "stdout",
     "output_type": "stream",
     "text": [
      "sandra\n",
      "marina\n"
     ]
    }
   ],
   "source": [
    "lista_2 = (\"sandra\", \"pablo\", \"diego\", \"marina\", \"nerea\")\n",
    "filtrar_palabras(lista_2, 5)"
   ]
  },
  {
   "cell_type": "code",
   "execution_count": 16,
   "id": "ae3eed7e-cd60-49d4-bb3b-3495d95c31c5",
   "metadata": {},
   "outputs": [
    {
     "name": "stdout",
     "output_type": "stream",
     "text": [
      "sandra\n",
      "pablo\n",
      "diego\n",
      "marina\n",
      "nerea\n"
     ]
    }
   ],
   "source": [
    "filtrar_palabras(lista_2, 4)"
   ]
  },
  {
   "cell_type": "markdown",
   "id": "cae44722-5fce-4e51-9585-37170c32e29a",
   "metadata": {},
   "source": [
    "#### 4. Escribir un programa que le diga al usuario que ingrese una cadena. El programa tiene que evaluar la cadena y decir cuantas letras mayúsculas tiene."
   ]
  },
  {
   "cell_type": "code",
   "execution_count": 17,
   "id": "6b47abe7-b077-4e12-82a5-f5463558734a",
   "metadata": {},
   "outputs": [],
   "source": [
    "def c_mayuscula(cadena):\n",
    "    cont = 0\n",
    "    for i in cadena:\n",
    "        if i != i.lower():  # Recordar que lower() convierte una cadena en minúsculas.\n",
    "            cont += 1\n",
    "    print (\"La cadena tiene\", cont, \"mayúsculas\")"
   ]
  },
  {
   "cell_type": "code",
   "execution_count": 19,
   "id": "7a638032-95a3-4585-9fdd-19e1e79aef86",
   "metadata": {},
   "outputs": [
    {
     "name": "stdout",
     "output_type": "stream",
     "text": [
      "La cadena tiene 2 mayúsculas\n"
     ]
    }
   ],
   "source": [
    "c_mayuscula(\"MarianoMoreno\")"
   ]
  },
  {
   "cell_type": "code",
   "execution_count": 6,
   "id": "85758980-6106-430e-9cca-c8b9ee7c49e0",
   "metadata": {},
   "outputs": [
    {
     "name": "stdout",
     "output_type": "stream",
     "text": [
      "no esta\n",
      "no esta\n",
      "no esta\n"
     ]
    }
   ],
   "source": [
    "lista = [\"leon\", \"perro\", \"gato\"]\n",
    "\n",
    "def buscar():\n",
    "    palabra = []\n",
    "    for i in lista:\n",
    "        if palabra == i:\n",
    "            print(\"ok\")\n",
    "        else: \n",
    "            print(\"no esta\")\n",
    "palabra = \"leon\"\n",
    "buscar()"
   ]
  },
  {
   "cell_type": "code",
   "execution_count": null,
   "id": "be890479-afab-480b-9ea8-87afa525bde0",
   "metadata": {},
   "outputs": [],
   "source": []
  }
 ],
 "metadata": {
  "kernelspec": {
   "display_name": "Python 3",
   "language": "python",
   "name": "python3"
  },
  "language_info": {
   "codemirror_mode": {
    "name": "ipython",
    "version": 3
   },
   "file_extension": ".py",
   "mimetype": "text/x-python",
   "name": "python",
   "nbconvert_exporter": "python",
   "pygments_lexer": "ipython3",
   "version": "3.8.8"
  }
 },
 "nbformat": 4,
 "nbformat_minor": 5
}

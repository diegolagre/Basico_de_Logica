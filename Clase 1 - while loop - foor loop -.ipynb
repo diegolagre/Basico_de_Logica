{
 "cells": [
  {
   "cell_type": "markdown",
   "id": "624227f8",
   "metadata": {},
   "source": [
    "WHILE LOOP"
   ]
  },
  {
   "cell_type": "code",
   "execution_count": 4,
   "id": "c05eb1d6",
   "metadata": {},
   "outputs": [
    {
     "name": "stdout",
     "output_type": "stream",
     "text": [
      "1\n",
      "2\n",
      "3\n",
      "4\n",
      "5\n",
      "6\n",
      "7\n",
      "8\n",
      "9\n"
     ]
    }
   ],
   "source": [
    "condition = 1\n",
    "\n",
    "while condition <10:\n",
    "    print (condition)\n",
    "    condition = condition + 1"
   ]
  },
  {
   "cell_type": "markdown",
   "id": "88884e51",
   "metadata": {},
   "source": [
    "FOOR LOOP"
   ]
  },
  {
   "cell_type": "code",
   "execution_count": 5,
   "id": "dc2edff5",
   "metadata": {},
   "outputs": [
    {
     "name": "stdout",
     "output_type": "stream",
     "text": [
      "2\n",
      "34\n",
      "543\n",
      "74\n",
      "856\n",
      "312\n",
      "8\n",
      "98\n",
      "945\n"
     ]
    }
   ],
   "source": [
    "examplelist = [2, 34, 543, 74, 856, 312, 8, 98, 945]\n",
    "for eachnumber in examplelist:\n",
    "    print(eachnumber)"
   ]
  },
  {
   "cell_type": "code",
   "execution_count": null,
   "id": "e75adc11",
   "metadata": {},
   "outputs": [],
   "source": []
  }
 ],
 "metadata": {
  "kernelspec": {
   "display_name": "Python 3",
   "language": "python",
   "name": "python3"
  },
  "language_info": {
   "codemirror_mode": {
    "name": "ipython",
    "version": 3
   },
   "file_extension": ".py",
   "mimetype": "text/x-python",
   "name": "python",
   "nbconvert_exporter": "python",
   "pygments_lexer": "ipython3",
   "version": "3.8.8"
  }
 },
 "nbformat": 4,
 "nbformat_minor": 5
}

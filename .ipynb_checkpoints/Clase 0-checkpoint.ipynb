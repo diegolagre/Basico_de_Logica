{
 "cells": [
  {
   "cell_type": "markdown",
   "id": "2dbb66ba",
   "metadata": {},
   "source": [
    "# LISTAS"
   ]
  },
  {
   "cell_type": "code",
   "execution_count": 1,
   "id": "ae8b7173",
   "metadata": {},
   "outputs": [],
   "source": [
    "lista = [1, 2, 33, 823, 234, 6]\n"
   ]
  },
  {
   "cell_type": "code",
   "execution_count": 2,
   "id": "d48d3482",
   "metadata": {},
   "outputs": [
    {
     "data": {
      "text/plain": [
       "[1, 2, 33, 823, 234, 6]"
      ]
     },
     "execution_count": 2,
     "metadata": {},
     "output_type": "execute_result"
    }
   ],
   "source": [
    "lista"
   ]
  },
  {
   "cell_type": "code",
   "execution_count": 3,
   "id": "cc305732",
   "metadata": {},
   "outputs": [
    {
     "name": "stdout",
     "output_type": "stream",
     "text": [
      "[1, 2, 33, 823, 234, 6]\n"
     ]
    }
   ],
   "source": [
    "print(lista)"
   ]
  },
  {
   "cell_type": "code",
   "execution_count": 4,
   "id": "143e58e7",
   "metadata": {},
   "outputs": [
    {
     "data": {
      "text/plain": [
       "1"
      ]
     },
     "execution_count": 4,
     "metadata": {},
     "output_type": "execute_result"
    }
   ],
   "source": [
    "lista[0]"
   ]
  },
  {
   "cell_type": "code",
   "execution_count": 5,
   "id": "a53ecd4b",
   "metadata": {},
   "outputs": [
    {
     "data": {
      "text/plain": [
       "823"
      ]
     },
     "execution_count": 5,
     "metadata": {},
     "output_type": "execute_result"
    }
   ],
   "source": [
    "lista[3]"
   ]
  },
  {
   "cell_type": "code",
   "execution_count": 8,
   "id": "3850f7d7",
   "metadata": {},
   "outputs": [],
   "source": [
    "lista[0] = 1"
   ]
  },
  {
   "cell_type": "code",
   "execution_count": 7,
   "id": "8256aafa",
   "metadata": {},
   "outputs": [
    {
     "data": {
      "text/plain": [
       "['diego', 2, 33, 823, 234, 6]"
      ]
     },
     "execution_count": 7,
     "metadata": {},
     "output_type": "execute_result"
    }
   ],
   "source": [
    "lista"
   ]
  },
  {
   "cell_type": "code",
   "execution_count": 9,
   "id": "257cb669",
   "metadata": {},
   "outputs": [
    {
     "data": {
      "text/plain": [
       "[1, 2, 33, 823, 234, 6]"
      ]
     },
     "execution_count": 9,
     "metadata": {},
     "output_type": "execute_result"
    }
   ],
   "source": [
    "lista"
   ]
  },
  {
   "cell_type": "code",
   "execution_count": 10,
   "id": "3705cece",
   "metadata": {},
   "outputs": [],
   "source": [
    "lista_2 = lista"
   ]
  },
  {
   "cell_type": "code",
   "execution_count": 11,
   "id": "034d4c12",
   "metadata": {},
   "outputs": [
    {
     "data": {
      "text/plain": [
       "[1, 2, 33, 823, 234, 6]"
      ]
     },
     "execution_count": 11,
     "metadata": {},
     "output_type": "execute_result"
    }
   ],
   "source": [
    "lista_2"
   ]
  },
  {
   "cell_type": "code",
   "execution_count": 12,
   "id": "68f1fc23",
   "metadata": {},
   "outputs": [],
   "source": [
    "lista_2[0] = 'diego'"
   ]
  },
  {
   "cell_type": "code",
   "execution_count": 13,
   "id": "9fa79578",
   "metadata": {},
   "outputs": [
    {
     "data": {
      "text/plain": [
       "['diego', 2, 33, 823, 234, 6]"
      ]
     },
     "execution_count": 13,
     "metadata": {},
     "output_type": "execute_result"
    }
   ],
   "source": [
    "lista_2"
   ]
  },
  {
   "cell_type": "code",
   "execution_count": 14,
   "id": "7821b218",
   "metadata": {},
   "outputs": [
    {
     "data": {
      "text/plain": [
       "['diego', 2, 33, 823, 234, 6]"
      ]
     },
     "execution_count": 14,
     "metadata": {},
     "output_type": "execute_result"
    }
   ],
   "source": [
    "lista"
   ]
  },
  {
   "cell_type": "code",
   "execution_count": 15,
   "id": "c01b06f1",
   "metadata": {},
   "outputs": [],
   "source": [
    "lista_3 = lista[:]"
   ]
  },
  {
   "cell_type": "code",
   "execution_count": 16,
   "id": "136d71d8",
   "metadata": {},
   "outputs": [
    {
     "data": {
      "text/plain": [
       "['diego', 2, 33, 823, 234, 6]"
      ]
     },
     "execution_count": 16,
     "metadata": {},
     "output_type": "execute_result"
    }
   ],
   "source": [
    "lista_3"
   ]
  },
  {
   "cell_type": "code",
   "execution_count": 17,
   "id": "1736e44e",
   "metadata": {},
   "outputs": [
    {
     "data": {
      "text/plain": [
       "['diego', 2, 33, 823, 234, 6]"
      ]
     },
     "execution_count": 17,
     "metadata": {},
     "output_type": "execute_result"
    }
   ],
   "source": [
    "lista"
   ]
  },
  {
   "cell_type": "code",
   "execution_count": 18,
   "id": "7b2b7f7e",
   "metadata": {},
   "outputs": [],
   "source": [
    "lista_3[0] = 'pablo'"
   ]
  },
  {
   "cell_type": "code",
   "execution_count": 19,
   "id": "b1b148c9",
   "metadata": {},
   "outputs": [
    {
     "data": {
      "text/plain": [
       "['pablo', 2, 33, 823, 234, 6]"
      ]
     },
     "execution_count": 19,
     "metadata": {},
     "output_type": "execute_result"
    }
   ],
   "source": [
    "lista_3"
   ]
  },
  {
   "cell_type": "code",
   "execution_count": 20,
   "id": "6bb54133",
   "metadata": {},
   "outputs": [
    {
     "data": {
      "text/plain": [
       "['diego', 2, 33, 823, 234, 6]"
      ]
     },
     "execution_count": 20,
     "metadata": {},
     "output_type": "execute_result"
    }
   ],
   "source": [
    "lista"
   ]
  },
  {
   "cell_type": "code",
   "execution_count": 21,
   "id": "0d94005c",
   "metadata": {},
   "outputs": [],
   "source": [
    "lista_4 = lista[2:-1]"
   ]
  },
  {
   "cell_type": "code",
   "execution_count": 25,
   "id": "4956b94f",
   "metadata": {},
   "outputs": [
    {
     "data": {
      "text/plain": [
       "['diego', 2, 33, 823, 234, 6]"
      ]
     },
     "execution_count": 25,
     "metadata": {},
     "output_type": "execute_result"
    }
   ],
   "source": [
    "lista"
   ]
  },
  {
   "cell_type": "code",
   "execution_count": 26,
   "id": "6a445df9",
   "metadata": {},
   "outputs": [
    {
     "data": {
      "text/plain": [
       "[33, 823, 234]"
      ]
     },
     "execution_count": 26,
     "metadata": {},
     "output_type": "execute_result"
    }
   ],
   "source": [
    "lista_4"
   ]
  },
  {
   "cell_type": "code",
   "execution_count": 27,
   "id": "08c75d0a",
   "metadata": {},
   "outputs": [],
   "source": [
    "lista_4[0] = ['sandra', 'pablo', 'diego', 'marina', 'nerea']"
   ]
  },
  {
   "cell_type": "code",
   "execution_count": 28,
   "id": "2e2cd7f5",
   "metadata": {},
   "outputs": [
    {
     "data": {
      "text/plain": [
       "[['sandra', 'pablo', 'diego', 'marina', 'nerea'], 823, 234]"
      ]
     },
     "execution_count": 28,
     "metadata": {},
     "output_type": "execute_result"
    }
   ],
   "source": [
    "lista_4"
   ]
  },
  {
   "cell_type": "code",
   "execution_count": 32,
   "id": "6963882e",
   "metadata": {},
   "outputs": [
    {
     "data": {
      "text/plain": [
       "['diego', 2, 33, 823, 234, 6]"
      ]
     },
     "execution_count": 32,
     "metadata": {},
     "output_type": "execute_result"
    }
   ],
   "source": [
    "lista"
   ]
  },
  {
   "cell_type": "code",
   "execution_count": 33,
   "id": "285142e2",
   "metadata": {},
   "outputs": [],
   "source": [
    "lista[0] = 1"
   ]
  },
  {
   "cell_type": "code",
   "execution_count": 34,
   "id": "c60a2e6a",
   "metadata": {},
   "outputs": [
    {
     "data": {
      "text/plain": [
       "[1, 2, 33, 823, 234, 6]"
      ]
     },
     "execution_count": 34,
     "metadata": {},
     "output_type": "execute_result"
    }
   ],
   "source": [
    "lista"
   ]
  },
  {
   "cell_type": "code",
   "execution_count": 35,
   "id": "ee11a9d5",
   "metadata": {},
   "outputs": [],
   "source": [
    "lista[0] = [2, 3, 4]"
   ]
  },
  {
   "cell_type": "code",
   "execution_count": 36,
   "id": "653e6103",
   "metadata": {},
   "outputs": [
    {
     "data": {
      "text/plain": [
       "[[2, 3, 4], 2, 33, 823, 234, 6]"
      ]
     },
     "execution_count": 36,
     "metadata": {},
     "output_type": "execute_result"
    }
   ],
   "source": [
    "lista"
   ]
  },
  {
   "cell_type": "code",
   "execution_count": 40,
   "id": "27cc168d",
   "metadata": {},
   "outputs": [
    {
     "name": "stdout",
     "output_type": "stream",
     "text": [
      "3\n"
     ]
    }
   ],
   "source": [
    "print(lista[0][1])"
   ]
  },
  {
   "cell_type": "code",
   "execution_count": 41,
   "id": "a86eed83",
   "metadata": {},
   "outputs": [
    {
     "data": {
      "text/plain": [
       "3"
      ]
     },
     "execution_count": 41,
     "metadata": {},
     "output_type": "execute_result"
    }
   ],
   "source": [
    "lista[0][1]"
   ]
  },
  {
   "cell_type": "markdown",
   "id": "cf1e377a",
   "metadata": {},
   "source": [
    "# TUPLAS"
   ]
  },
  {
   "cell_type": "code",
   "execution_count": 42,
   "id": "4dc9c9ab",
   "metadata": {},
   "outputs": [],
   "source": [
    "tupla = (1, 2, 3, 4)"
   ]
  },
  {
   "cell_type": "code",
   "execution_count": 43,
   "id": "0573447d",
   "metadata": {},
   "outputs": [
    {
     "data": {
      "text/plain": [
       "(1, 2, 3, 4)"
      ]
     },
     "execution_count": 43,
     "metadata": {},
     "output_type": "execute_result"
    }
   ],
   "source": [
    "tupla"
   ]
  },
  {
   "cell_type": "code",
   "execution_count": 45,
   "id": "42ae9224",
   "metadata": {
    "scrolled": true
   },
   "outputs": [
    {
     "ename": "SyntaxError",
     "evalue": "cannot assign to function call (<ipython-input-45-1d971f100ca5>, line 1)",
     "output_type": "error",
     "traceback": [
      "\u001b[1;36m  File \u001b[1;32m\"<ipython-input-45-1d971f100ca5>\"\u001b[1;36m, line \u001b[1;32m1\u001b[0m\n\u001b[1;33m    tupla(0) = 0 #las tuplas no se pueden modificar\u001b[0m\n\u001b[1;37m    ^\u001b[0m\n\u001b[1;31mSyntaxError\u001b[0m\u001b[1;31m:\u001b[0m cannot assign to function call\n"
     ]
    }
   ],
   "source": [
    "tupla(0) = 0 #las tuplas no se pueden modificar"
   ]
  },
  {
   "cell_type": "markdown",
   "id": "65313cc1",
   "metadata": {},
   "source": []
  }
 ],
 "metadata": {
  "kernelspec": {
   "display_name": "Python 3",
   "language": "python",
   "name": "python3"
  },
  "language_info": {
   "codemirror_mode": {
    "name": "ipython",
    "version": 3
   },
   "file_extension": ".py",
   "mimetype": "text/x-python",
   "name": "python",
   "nbconvert_exporter": "python",
   "pygments_lexer": "ipython3",
   "version": "3.8.8"
  }
 },
 "nbformat": 4,
 "nbformat_minor": 5
}

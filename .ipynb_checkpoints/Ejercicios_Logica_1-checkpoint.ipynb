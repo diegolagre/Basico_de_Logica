{
 "cells": [
  {
   "cell_type": "markdown",
   "id": "35c4f3b1-2994-4cbf-9930-c098bd961ba2",
   "metadata": {},
   "source": [
    "#### 1- Definir una función maxim() que tome como argumento dos números y devuelva el mayor de ellos."
   ]
  },
  {
   "cell_type": "code",
   "execution_count": 2,
   "id": "b78189c6-8ae0-4b15-a02e-c7a33456f969",
   "metadata": {},
   "outputs": [],
   "source": [
    "def maxim (n1, n2):\n",
    "    if n1 < n2:\n",
    "        print (n2)\n",
    "    elif n2 < n1:\n",
    "        print (n1)\n",
    "    else:\n",
    "        print (\"son iguales\")"
   ]
  },
  {
   "cell_type": "code",
   "execution_count": 16,
   "id": "6bdd511a-53cf-47e2-84ff-9b2ac332c377",
   "metadata": {},
   "outputs": [
    {
     "name": "stdout",
     "output_type": "stream",
     "text": [
      "2\n"
     ]
    }
   ],
   "source": [
    "n1 = 1\n",
    "n2 = 2\n",
    "n3 = 3\n",
    "maxim (n1, n2)"
   ]
  },
  {
   "cell_type": "markdown",
   "id": "31750626-cd48-4347-b945-d9b3bd4a986c",
   "metadata": {},
   "source": [
    "#### 2. Definir una función max_de_tres(), que tome tres números como argumentos y devuelva el mayor de ellos."
   ]
  },
  {
   "cell_type": "code",
   "execution_count": 15,
   "id": "7c692546-4dea-4111-8d60-03383e71f2f2",
   "metadata": {},
   "outputs": [],
   "source": [
    "def max_de_tres (n1, n2, n3):\n",
    "    if n1 > n2 and n1 >n3:\n",
    "        print (n1)\n",
    "    elif n2 > n1 and n2 > n3:\n",
    "        print (n2)\n",
    "    elif n3 > n1 and n3 > n2:\n",
    "        print (n3)\n",
    "    else:\n",
    "        print(\"son iguales\")"
   ]
  },
  {
   "cell_type": "code",
   "execution_count": 17,
   "id": "4080dd9a-16a2-403c-bfa7-9e0b529ec780",
   "metadata": {},
   "outputs": [
    {
     "name": "stdout",
     "output_type": "stream",
     "text": [
      "3\n"
     ]
    }
   ],
   "source": [
    "max_de_tres (n1, n2, n3)"
   ]
  },
  {
   "cell_type": "markdown",
   "id": "ab9a49ce-2bb9-4b4f-b628-04df9860f142",
   "metadata": {},
   "source": [
    "#### 3- Definir una función que calcule la longitud de una lista o una cadena dada."
   ]
  },
  {
   "cell_type": "code",
   "execution_count": 24,
   "id": "7b70b95a-fa98-4acf-9f3d-9e36a0679677",
   "metadata": {},
   "outputs": [],
   "source": [
    "def largo_cadena (lista_1):\n",
    "    cuenta = 0\n",
    "    for i in lista_1:\n",
    "        cuenta += 1 # cuenta = cuenta + 1\n",
    "    return cuenta"
   ]
  },
  {
   "cell_type": "code",
   "execution_count": 25,
   "id": "55a4104b-4142-47cd-a2cb-dbd242293650",
   "metadata": {},
   "outputs": [
    {
     "name": "stdout",
     "output_type": "stream",
     "text": [
      "10\n"
     ]
    }
   ],
   "source": [
    "lista_1 = (1, 2, 3, 4, 5, 6, 7, 8, 9, 10)\n",
    "print (largo_cadena (lista_1))"
   ]
  },
  {
   "cell_type": "markdown",
   "id": "244b859b-2acc-481d-88af-95dddb10edf7",
   "metadata": {},
   "source": [
    "#### 4- Escribir una función que tome un carácter y devuelva True si es una vocal, de lo contrario devuelve False."
   ]
  },
  {
   "cell_type": "code",
   "execution_count": 26,
   "id": "e9e33ab9-0348-459b-a669-8d535d4de459",
   "metadata": {},
   "outputs": [],
   "source": [
    "def es_vocal (x):\n",
    "    if x == \"a\" or x == \"e\" or x == \"i\" or x == \"o\" or x == \"u\":\n",
    "        return True\n",
    "    elif x == \"A\" or x == \"E\" or x == \"I\" or x == \"O\" or x == \"U\":\n",
    "        return True\n",
    "    else:\n",
    "        return False"
   ]
  },
  {
   "cell_type": "code",
   "execution_count": 27,
   "id": "b99516c7-201c-4712-a87c-2eba8a425fa8",
   "metadata": {},
   "outputs": [
    {
     "data": {
      "text/plain": [
       "False"
      ]
     },
     "execution_count": 27,
     "metadata": {},
     "output_type": "execute_result"
    }
   ],
   "source": [
    "x = \"f\"\n",
    "es_vocal (x)"
   ]
  },
  {
   "cell_type": "code",
   "execution_count": 29,
   "id": "5fda5da0-c2a9-4e6c-bab6-dcbc971ae470",
   "metadata": {},
   "outputs": [
    {
     "data": {
      "text/plain": [
       "False"
      ]
     },
     "execution_count": 29,
     "metadata": {},
     "output_type": "execute_result"
    }
   ],
   "source": [
    "x = \"0\"\n",
    "es_vocal (x)"
   ]
  },
  {
   "cell_type": "markdown",
   "id": "ea633a7e-99b3-463b-917a-0ce3f1338d89",
   "metadata": {},
   "source": [
    "#### 5- Escribir una función sum() y una función multip() que sumen y multipliquen respectivamente todos los números de una lista. Por ejemplo: sum([1,2,3,4]) debería devolver 10 y multip([1,2,3,4]) debería devolver 24."
   ]
  },
  {
   "cell_type": "code",
   "execution_count": 30,
   "id": "2dae7b72-28f7-4a31-be67-126204531a81",
   "metadata": {},
   "outputs": [],
   "source": [
    "def sum (lista_2):\n",
    "    sumando = 0\n",
    "    for i in lista_2:\n",
    "        sumando += i  # sumando = sumando + i\n",
    "    return sumando\n",
    "    \n",
    "   \n",
    "    "
   ]
  },
  {
   "cell_type": "code",
   "execution_count": 31,
   "id": "bbd375f8-6001-4ff7-ba7c-5e8d1422dcb1",
   "metadata": {},
   "outputs": [
    {
     "data": {
      "text/plain": [
       "15"
      ]
     },
     "execution_count": 31,
     "metadata": {},
     "output_type": "execute_result"
    }
   ],
   "source": [
    "lista_2 = (1, 2, 3, 4, 5)\n",
    "sum (lista_2)"
   ]
  },
  {
   "cell_type": "code",
   "execution_count": 34,
   "id": "102dad8c-78c8-4774-9bbe-28ae1d6e2e0f",
   "metadata": {},
   "outputs": [],
   "source": [
    "def mult (lista_2):\n",
    "    multi = 1\n",
    "    for i in lista_2:\n",
    "        multi *= i  # multi = multi * i\n",
    "    return multi\n"
   ]
  },
  {
   "cell_type": "code",
   "execution_count": 35,
   "id": "f4c534b8-536a-4903-93ad-8c02bd789fa5",
   "metadata": {},
   "outputs": [
    {
     "data": {
      "text/plain": [
       "120"
      ]
     },
     "execution_count": 35,
     "metadata": {},
     "output_type": "execute_result"
    }
   ],
   "source": [
    "mult (lista_2)"
   ]
  },
  {
   "cell_type": "markdown",
   "id": "a61136cc-35fd-4dda-991c-27f4ef6e7b11",
   "metadata": {},
   "source": [
    "#### 6- Definir una función inversa() que calcule la inversión de una cadena. Por ejemplo la cadena \"estoy probando\" debería devolver la cadena \"odnaborp yotse\""
   ]
  },
  {
   "cell_type": "code",
   "execution_count": 53,
   "id": "bf7c545a-050d-4db1-82b1-193efbd5824b",
   "metadata": {},
   "outputs": [],
   "source": [
    "def inversa (cadena):\n",
    "    invertida = \"\"\n",
    "    cont = len(cadena)\n",
    "    indice = -1\n",
    "    while cont >= 1:\n",
    "        invertida += cadena[indice]  # invertida = invertida + cadena[indice]\n",
    "        indice = indice + (-1)\n",
    "        cont -= 1                    # cont = cont - 1\n",
    "        return invertida"
   ]
  },
  {
   "cell_type": "code",
   "execution_count": 54,
   "id": "9aa071f2-db93-41cc-8af8-a6742b9c8dea",
   "metadata": {},
   "outputs": [
    {
     "data": {
      "text/plain": [
       "'1'"
      ]
     },
     "execution_count": 54,
     "metadata": {},
     "output_type": "execute_result"
    }
   ],
   "source": [
    "cadena = (\"1234\")\n",
    "inversa (cadena)"
   ]
  },
  {
   "cell_type": "code",
   "execution_count": 50,
   "id": "8ad33b1e-9f64-46a7-9949-068e3c364527",
   "metadata": {},
   "outputs": [
    {
     "data": {
      "text/plain": [
       "4"
      ]
     },
     "execution_count": 50,
     "metadata": {},
     "output_type": "execute_result"
    }
   ],
   "source": [
    "len(cadena)"
   ]
  },
  {
   "cell_type": "markdown",
   "id": "3ed4b2d8-5c45-4371-93df-37a6ab9c2665",
   "metadata": {},
   "source": [
    "#### 7 - Definir una función es_palindromo() que reconoce palíndromos (es decir, palabras que tienen el mismo aspecto escritas invertidas), ejemplo: es_palindromo (\"radar\") tendría que devolver True."
   ]
  },
  {
   "cell_type": "code",
   "execution_count": 59,
   "id": "3e40b8c9-ca57-45ed-a44e-51083bcf6314",
   "metadata": {},
   "outputs": [],
   "source": [
    "def es_palindromo (cadena):\n",
    "    palabra_invertida = inversa (cadena)\n",
    "    indice = 0\n",
    "    cont = 0\n",
    "    for i in range (len(cadena)):\n",
    "        if palabra_invertida[indice] == cadena[indice]:\n",
    "            indice += 1\n",
    "            cont += 1\n",
    "        else:\n",
    "            print (\"no es polindromo\")\n",
    "            break\n",
    "    if cont == len(cadena): # si el contador = a la cantidad de letras de la cadena\n",
    "        print (\"es palindromo\") #es porque recorrió todo el cíclo for y todas las letras \n",
    "                              # son iguales.\n",
    "    "
   ]
  },
  {
   "cell_type": "code",
   "execution_count": 60,
   "id": "2cb300ad-fee5-4bda-8f89-73361505c3f2",
   "metadata": {},
   "outputs": [
    {
     "ename": "IndexError",
     "evalue": "string index out of range",
     "output_type": "error",
     "traceback": [
      "\u001b[1;31m---------------------------------------------------------------------------\u001b[0m",
      "\u001b[1;31mIndexError\u001b[0m                                Traceback (most recent call last)",
      "\u001b[1;32m<ipython-input-60-8ff70564f777>\u001b[0m in \u001b[0;36m<module>\u001b[1;34m\u001b[0m\n\u001b[0;32m      1\u001b[0m \u001b[0mcadena\u001b[0m \u001b[1;33m=\u001b[0m \u001b[1;34m\"neuquen\"\u001b[0m\u001b[1;33m\u001b[0m\u001b[1;33m\u001b[0m\u001b[0m\n\u001b[1;32m----> 2\u001b[1;33m \u001b[0mes_palindromo\u001b[0m \u001b[1;33m(\u001b[0m\u001b[0mcadena\u001b[0m\u001b[1;33m)\u001b[0m\u001b[1;33m\u001b[0m\u001b[1;33m\u001b[0m\u001b[0m\n\u001b[0m",
      "\u001b[1;32m<ipython-input-59-2dbc8add7d20>\u001b[0m in \u001b[0;36mes_palindromo\u001b[1;34m(cadena)\u001b[0m\n\u001b[0;32m      4\u001b[0m     \u001b[0mcont\u001b[0m \u001b[1;33m=\u001b[0m \u001b[1;36m0\u001b[0m\u001b[1;33m\u001b[0m\u001b[1;33m\u001b[0m\u001b[0m\n\u001b[0;32m      5\u001b[0m     \u001b[1;32mfor\u001b[0m \u001b[0mi\u001b[0m \u001b[1;32min\u001b[0m \u001b[0mrange\u001b[0m \u001b[1;33m(\u001b[0m\u001b[0mlen\u001b[0m\u001b[1;33m(\u001b[0m\u001b[0mcadena\u001b[0m\u001b[1;33m)\u001b[0m\u001b[1;33m)\u001b[0m\u001b[1;33m:\u001b[0m\u001b[1;33m\u001b[0m\u001b[1;33m\u001b[0m\u001b[0m\n\u001b[1;32m----> 6\u001b[1;33m         \u001b[1;32mif\u001b[0m \u001b[0mpalabra_invertida\u001b[0m\u001b[1;33m[\u001b[0m\u001b[0mindice\u001b[0m\u001b[1;33m]\u001b[0m \u001b[1;33m==\u001b[0m \u001b[0mcadena\u001b[0m\u001b[1;33m[\u001b[0m\u001b[0mindice\u001b[0m\u001b[1;33m]\u001b[0m\u001b[1;33m:\u001b[0m\u001b[1;33m\u001b[0m\u001b[1;33m\u001b[0m\u001b[0m\n\u001b[0m\u001b[0;32m      7\u001b[0m             \u001b[0mindice\u001b[0m \u001b[1;33m+=\u001b[0m \u001b[1;36m1\u001b[0m\u001b[1;33m\u001b[0m\u001b[1;33m\u001b[0m\u001b[0m\n\u001b[0;32m      8\u001b[0m             \u001b[0mcont\u001b[0m \u001b[1;33m+=\u001b[0m \u001b[1;36m1\u001b[0m\u001b[1;33m\u001b[0m\u001b[1;33m\u001b[0m\u001b[0m\n",
      "\u001b[1;31mIndexError\u001b[0m: string index out of range"
     ]
    }
   ],
   "source": [
    "cadena = \"neuquen\"\n",
    "es_palindromo (cadena)\n"
   ]
  },
  {
   "cell_type": "markdown",
   "id": "6956dd91-53ec-40db-9f34-95408b37b8ad",
   "metadata": {},
   "source": [
    "#### 8- Definir una función superposicion() que tome dos listas y devuelva True si tienen al menos 1 miembro en común o devuelva False de lo contrario. Escribir la función usando el bucle for anidado."
   ]
  },
  {
   "cell_type": "code",
   "execution_count": 78,
   "id": "fa4ac705-c20c-42fe-890b-27444cf40d66",
   "metadata": {},
   "outputs": [],
   "source": [
    "def superposicion (lista_a, lista_b):\n",
    "    for i in lista_a:\n",
    "        for x in lista_b:\n",
    "            if i == x:\n",
    "                return True\n",
    "    return False"
   ]
  },
  {
   "cell_type": "code",
   "execution_count": 80,
   "id": "d24f8578-2d66-4745-8f4b-2268d50e1026",
   "metadata": {},
   "outputs": [],
   "source": [
    "def generar_n_caracteres (n, caracter):\n",
    "    print (n * caracter)"
   ]
  },
  {
   "cell_type": "code",
   "execution_count": 72,
   "id": "f15b021b-2471-4432-ac9d-bda08bbdb154",
   "metadata": {},
   "outputs": [
    {
     "name": "stdout",
     "output_type": "stream",
     "text": [
      "AAAAAAAAAA\n"
     ]
    }
   ],
   "source": [
    "generar_n_caracteres (10, \"A\")"
   ]
  },
  {
   "cell_type": "code",
   "execution_count": 77,
   "id": "e8a92027-87fe-4b2d-9ecf-d9dbe4779da4",
   "metadata": {},
   "outputs": [
    {
     "data": {
      "text/plain": [
       "201300"
      ]
     },
     "execution_count": 77,
     "metadata": {},
     "output_type": "execute_result"
    }
   ],
   "source": [
    "1100*183"
   ]
  },
  {
   "cell_type": "code",
   "execution_count": null,
   "id": "0c503da5-d0e3-4b5b-b48c-62b70e0c93b7",
   "metadata": {},
   "outputs": [],
   "source": []
  }
 ],
 "metadata": {
  "kernelspec": {
   "display_name": "Python 3",
   "language": "python",
   "name": "python3"
  },
  "language_info": {
   "codemirror_mode": {
    "name": "ipython",
    "version": 3
   },
   "file_extension": ".py",
   "mimetype": "text/x-python",
   "name": "python",
   "nbconvert_exporter": "python",
   "pygments_lexer": "ipython3",
   "version": "3.8.8"
  }
 },
 "nbformat": 4,
 "nbformat_minor": 5
}

{
 "cells": [
  {
   "cell_type": "markdown",
   "id": "2dbb66ba",
   "metadata": {},
   "source": [
    "# LISTAS"
   ]
  },
  {
   "cell_type": "code",
   "execution_count": 1,
   "id": "ae8b7173",
   "metadata": {},
   "outputs": [],
   "source": [
    "lista = [1, 2, 33, 823, 234, 6]\n"
   ]
  },
  {
   "cell_type": "code",
   "execution_count": 2,
   "id": "d48d3482",
   "metadata": {},
   "outputs": [
    {
     "data": {
      "text/plain": [
       "[1, 2, 33, 823, 234, 6]"
      ]
     },
     "execution_count": 2,
     "metadata": {},
     "output_type": "execute_result"
    }
   ],
   "source": [
    "lista"
   ]
  },
  {
   "cell_type": "code",
   "execution_count": 3,
   "id": "cc305732",
   "metadata": {},
   "outputs": [
    {
     "name": "stdout",
     "output_type": "stream",
     "text": [
      "[1, 2, 33, 823, 234, 6]\n"
     ]
    }
   ],
   "source": [
    "print(lista)"
   ]
  },
  {
   "cell_type": "code",
   "execution_count": 4,
   "id": "143e58e7",
   "metadata": {},
   "outputs": [
    {
     "data": {
      "text/plain": [
       "1"
      ]
     },
     "execution_count": 4,
     "metadata": {},
     "output_type": "execute_result"
    }
   ],
   "source": [
    "lista[0]"
   ]
  },
  {
   "cell_type": "code",
   "execution_count": 5,
   "id": "a53ecd4b",
   "metadata": {},
   "outputs": [
    {
     "data": {
      "text/plain": [
       "823"
      ]
     },
     "execution_count": 5,
     "metadata": {},
     "output_type": "execute_result"
    }
   ],
   "source": [
    "lista[3]"
   ]
  },
  {
   "cell_type": "code",
   "execution_count": 8,
   "id": "3850f7d7",
   "metadata": {},
   "outputs": [],
   "source": [
    "lista[0] = 1"
   ]
  },
  {
   "cell_type": "code",
   "execution_count": 7,
   "id": "8256aafa",
   "metadata": {},
   "outputs": [
    {
     "data": {
      "text/plain": [
       "['diego', 2, 33, 823, 234, 6]"
      ]
     },
     "execution_count": 7,
     "metadata": {},
     "output_type": "execute_result"
    }
   ],
   "source": [
    "lista"
   ]
  },
  {
   "cell_type": "code",
   "execution_count": 9,
   "id": "257cb669",
   "metadata": {},
   "outputs": [
    {
     "data": {
      "text/plain": [
       "[1, 2, 33, 823, 234, 6]"
      ]
     },
     "execution_count": 9,
     "metadata": {},
     "output_type": "execute_result"
    }
   ],
   "source": [
    "lista"
   ]
  },
  {
   "cell_type": "code",
   "execution_count": 10,
   "id": "3705cece",
   "metadata": {},
   "outputs": [],
   "source": [
    "lista_2 = lista"
   ]
  },
  {
   "cell_type": "code",
   "execution_count": 11,
   "id": "034d4c12",
   "metadata": {},
   "outputs": [
    {
     "data": {
      "text/plain": [
       "[1, 2, 33, 823, 234, 6]"
      ]
     },
     "execution_count": 11,
     "metadata": {},
     "output_type": "execute_result"
    }
   ],
   "source": [
    "lista_2"
   ]
  },
  {
   "cell_type": "code",
   "execution_count": 12,
   "id": "68f1fc23",
   "metadata": {},
   "outputs": [],
   "source": [
    "lista_2[0] = 'diego'"
   ]
  },
  {
   "cell_type": "code",
   "execution_count": 13,
   "id": "9fa79578",
   "metadata": {},
   "outputs": [
    {
     "data": {
      "text/plain": [
       "['diego', 2, 33, 823, 234, 6]"
      ]
     },
     "execution_count": 13,
     "metadata": {},
     "output_type": "execute_result"
    }
   ],
   "source": [
    "lista_2"
   ]
  },
  {
   "cell_type": "code",
   "execution_count": 14,
   "id": "7821b218",
   "metadata": {},
   "outputs": [
    {
     "data": {
      "text/plain": [
       "['diego', 2, 33, 823, 234, 6]"
      ]
     },
     "execution_count": 14,
     "metadata": {},
     "output_type": "execute_result"
    }
   ],
   "source": [
    "lista"
   ]
  },
  {
   "cell_type": "code",
   "execution_count": 15,
   "id": "c01b06f1",
   "metadata": {},
   "outputs": [],
   "source": [
    "lista_3 = lista[:]"
   ]
  },
  {
   "cell_type": "code",
   "execution_count": 16,
   "id": "136d71d8",
   "metadata": {},
   "outputs": [
    {
     "data": {
      "text/plain": [
       "['diego', 2, 33, 823, 234, 6]"
      ]
     },
     "execution_count": 16,
     "metadata": {},
     "output_type": "execute_result"
    }
   ],
   "source": [
    "lista_3"
   ]
  },
  {
   "cell_type": "code",
   "execution_count": 17,
   "id": "1736e44e",
   "metadata": {},
   "outputs": [
    {
     "data": {
      "text/plain": [
       "['diego', 2, 33, 823, 234, 6]"
      ]
     },
     "execution_count": 17,
     "metadata": {},
     "output_type": "execute_result"
    }
   ],
   "source": [
    "lista"
   ]
  },
  {
   "cell_type": "code",
   "execution_count": 18,
   "id": "7b2b7f7e",
   "metadata": {},
   "outputs": [],
   "source": [
    "lista_3[0] = 'pablo'"
   ]
  },
  {
   "cell_type": "code",
   "execution_count": 19,
   "id": "b1b148c9",
   "metadata": {},
   "outputs": [
    {
     "data": {
      "text/plain": [
       "['pablo', 2, 33, 823, 234, 6]"
      ]
     },
     "execution_count": 19,
     "metadata": {},
     "output_type": "execute_result"
    }
   ],
   "source": [
    "lista_3"
   ]
  },
  {
   "cell_type": "code",
   "execution_count": 20,
   "id": "6bb54133",
   "metadata": {},
   "outputs": [
    {
     "data": {
      "text/plain": [
       "['diego', 2, 33, 823, 234, 6]"
      ]
     },
     "execution_count": 20,
     "metadata": {},
     "output_type": "execute_result"
    }
   ],
   "source": [
    "lista"
   ]
  },
  {
   "cell_type": "code",
   "execution_count": 21,
   "id": "0d94005c",
   "metadata": {},
   "outputs": [],
   "source": [
    "lista_4 = lista[2:-1]"
   ]
  },
  {
   "cell_type": "code",
   "execution_count": 25,
   "id": "4956b94f",
   "metadata": {},
   "outputs": [
    {
     "data": {
      "text/plain": [
       "['diego', 2, 33, 823, 234, 6]"
      ]
     },
     "execution_count": 25,
     "metadata": {},
     "output_type": "execute_result"
    }
   ],
   "source": [
    "lista"
   ]
  },
  {
   "cell_type": "code",
   "execution_count": 26,
   "id": "6a445df9",
   "metadata": {},
   "outputs": [
    {
     "data": {
      "text/plain": [
       "[33, 823, 234]"
      ]
     },
     "execution_count": 26,
     "metadata": {},
     "output_type": "execute_result"
    }
   ],
   "source": [
    "lista_4"
   ]
  },
  {
   "cell_type": "code",
   "execution_count": 27,
   "id": "08c75d0a",
   "metadata": {},
   "outputs": [],
   "source": [
    "lista_4[0] = ['sandra', 'pablo', 'diego', 'marina', 'nerea']"
   ]
  },
  {
   "cell_type": "code",
   "execution_count": 28,
   "id": "2e2cd7f5",
   "metadata": {},
   "outputs": [
    {
     "data": {
      "text/plain": [
       "[['sandra', 'pablo', 'diego', 'marina', 'nerea'], 823, 234]"
      ]
     },
     "execution_count": 28,
     "metadata": {},
     "output_type": "execute_result"
    }
   ],
   "source": [
    "lista_4"
   ]
  },
  {
   "cell_type": "code",
   "execution_count": 32,
   "id": "6963882e",
   "metadata": {},
   "outputs": [
    {
     "data": {
      "text/plain": [
       "['diego', 2, 33, 823, 234, 6]"
      ]
     },
     "execution_count": 32,
     "metadata": {},
     "output_type": "execute_result"
    }
   ],
   "source": [
    "lista"
   ]
  },
  {
   "cell_type": "code",
   "execution_count": 33,
   "id": "285142e2",
   "metadata": {},
   "outputs": [],
   "source": [
    "lista[0] = 1"
   ]
  },
  {
   "cell_type": "code",
   "execution_count": 34,
   "id": "c60a2e6a",
   "metadata": {},
   "outputs": [
    {
     "data": {
      "text/plain": [
       "[1, 2, 33, 823, 234, 6]"
      ]
     },
     "execution_count": 34,
     "metadata": {},
     "output_type": "execute_result"
    }
   ],
   "source": [
    "lista"
   ]
  },
  {
   "cell_type": "code",
   "execution_count": 35,
   "id": "ee11a9d5",
   "metadata": {},
   "outputs": [],
   "source": [
    "lista[0] = [2, 3, 4]"
   ]
  },
  {
   "cell_type": "code",
   "execution_count": 36,
   "id": "653e6103",
   "metadata": {},
   "outputs": [
    {
     "data": {
      "text/plain": [
       "[[2, 3, 4], 2, 33, 823, 234, 6]"
      ]
     },
     "execution_count": 36,
     "metadata": {},
     "output_type": "execute_result"
    }
   ],
   "source": [
    "lista"
   ]
  },
  {
   "cell_type": "code",
   "execution_count": 40,
   "id": "27cc168d",
   "metadata": {},
   "outputs": [
    {
     "name": "stdout",
     "output_type": "stream",
     "text": [
      "3\n"
     ]
    }
   ],
   "source": [
    "print(lista[0][1])"
   ]
  },
  {
   "cell_type": "code",
   "execution_count": 41,
   "id": "a86eed83",
   "metadata": {},
   "outputs": [
    {
     "data": {
      "text/plain": [
       "3"
      ]
     },
     "execution_count": 41,
     "metadata": {},
     "output_type": "execute_result"
    }
   ],
   "source": [
    "lista[0][1]"
   ]
  },
  {
   "cell_type": "markdown",
   "id": "cf1e377a",
   "metadata": {},
   "source": [
    "# TUPLAS"
   ]
  },
  {
   "cell_type": "code",
   "execution_count": 42,
   "id": "4dc9c9ab",
   "metadata": {},
   "outputs": [],
   "source": [
    "tupla = (1, 2, 3, 4)"
   ]
  },
  {
   "cell_type": "code",
   "execution_count": 43,
   "id": "0573447d",
   "metadata": {},
   "outputs": [
    {
     "data": {
      "text/plain": [
       "(1, 2, 3, 4)"
      ]
     },
     "execution_count": 43,
     "metadata": {},
     "output_type": "execute_result"
    }
   ],
   "source": [
    "tupla"
   ]
  },
  {
   "cell_type": "code",
   "execution_count": 45,
   "id": "42ae9224",
   "metadata": {
    "scrolled": true
   },
   "outputs": [
    {
     "ename": "SyntaxError",
     "evalue": "cannot assign to function call (<ipython-input-45-1d971f100ca5>, line 1)",
     "output_type": "error",
     "traceback": [
      "\u001b[1;36m  File \u001b[1;32m\"<ipython-input-45-1d971f100ca5>\"\u001b[1;36m, line \u001b[1;32m1\u001b[0m\n\u001b[1;33m    tupla(0) = 0 #las tuplas no se pueden modificar\u001b[0m\n\u001b[1;37m    ^\u001b[0m\n\u001b[1;31mSyntaxError\u001b[0m\u001b[1;31m:\u001b[0m cannot assign to function call\n"
     ]
    }
   ],
   "source": [
    "tupla(0) = 0 #las tuplas no se pueden modificar"
   ]
  },
  {
   "cell_type": "code",
   "execution_count": 2,
   "id": "9c77ed47-22d8-4ac6-ada0-3e04b1255f60",
   "metadata": {},
   "outputs": [
    {
     "name": "stdout",
     "output_type": "stream",
     "text": [
      "El perímetro de un círculo de radio 2 es 12.566368.\n"
     ]
    }
   ],
   "source": [
    "pi = 3.141592\n",
    "radio = 2\n",
    "print(\"El perímetro de un círculo de radio %d es %f.\" % (radio, 2 * radio * pi))\n"
   ]
  },
  {
   "cell_type": "code",
   "execution_count": 3,
   "id": "9612dccf-a6ac-4a3b-b989-50ffb206afd8",
   "metadata": {},
   "outputs": [
    {
     "name": "stdout",
     "output_type": "stream",
     "text": [
      "El perímetro de un círculo de radio 2 es 12.\n"
     ]
    }
   ],
   "source": [
    "\n",
    "print(\"El perímetro de un círculo de radio %d es %d.\" % (radio, 2 * radio * pi))"
   ]
  },
  {
   "cell_type": "code",
   "execution_count": 4,
   "id": "cbf09ebf-1c21-40b1-896b-971158de67c3",
   "metadata": {},
   "outputs": [
    {
     "name": "stdout",
     "output_type": "stream",
     "text": [
      "El perímetro de un circulo de radio 2 es 12.566368.\n"
     ]
    }
   ],
   "source": [
    "\n",
    "print(\"El perímetro de un circulo de radio %s es %s.\" % (radio, 2 * radio * pi))"
   ]
  },
  {
   "cell_type": "code",
   "execution_count": 6,
   "id": "9b194342-3ccb-42e6-8f69-4dd11b55874e",
   "metadata": {},
   "outputs": [],
   "source": [
    "def lista_primos(limite=100):\n",
    "    '''Genera una lista de los números primos comprendidos entre el 2 y el valor de limite.'''\n",
    "    #La lista inicia con el número 2\n",
    "    lista = [2]\n",
    "   \n",
    "    def esprimo(numero):\n",
    "        '''Valida si numero es divisible entre algún elemento de lista. De ocurrir, \n",
    "        regresa False. De lo contrario, regresa True.'''\n",
    "        for primo in lista:\n",
    "            if numero % primo == 0:\n",
    "                return False\n",
    "        return True\n",
    "    \n",
    "    #Se realizará una iteración de cada número entero desde 3 hasta el valor de limite.\n",
    "    for numero in range(3, limite + 1):\n",
    "        #Si esprimo(numero) regresa True, añade el valor de numero a lista\n",
    "        if esprimo(numero):\n",
    "            lista.append(numero)\n",
    "    return lista"
   ]
  },
  {
   "cell_type": "code",
   "execution_count": 8,
   "id": "0574f804-5182-4c9e-aa87-4346063ee609",
   "metadata": {},
   "outputs": [],
   "source": [
    "lista = ['1', 2, 'tres', 4.0]"
   ]
  },
  {
   "cell_type": "code",
   "execution_count": 9,
   "id": "af1ff815-0494-471d-bdb0-e23abbf58dd1",
   "metadata": {},
   "outputs": [
    {
     "data": {
      "text/plain": [
       "True"
      ]
     },
     "execution_count": 9,
     "metadata": {},
     "output_type": "execute_result"
    }
   ],
   "source": [
    "hasattr(lista, \"__iter__\")"
   ]
  },
  {
   "cell_type": "code",
   "execution_count": 10,
   "id": "300c3508-41b2-4232-8570-741bb810d647",
   "metadata": {},
   "outputs": [
    {
     "data": {
      "text/plain": [
       "False"
      ]
     },
     "execution_count": 10,
     "metadata": {},
     "output_type": "execute_result"
    }
   ],
   "source": [
    "hasattr(lista, \"__next__\")"
   ]
  },
  {
   "cell_type": "code",
   "execution_count": 11,
   "id": "4547dc09-e2fa-40d8-8e15-2ca6b18bee42",
   "metadata": {},
   "outputs": [
    {
     "name": "stdout",
     "output_type": "stream",
     "text": [
      "<list_iterator object at 0x0000028CC3F9C070>\n"
     ]
    }
   ],
   "source": [
    "iterador = iter(lista)\n",
    "print(iterador)"
   ]
  },
  {
   "cell_type": "code",
   "execution_count": 12,
   "id": "4fb98ec0-a325-480c-8952-435d384bd740",
   "metadata": {},
   "outputs": [
    {
     "data": {
      "text/plain": [
       "list_iterator"
      ]
     },
     "execution_count": 12,
     "metadata": {},
     "output_type": "execute_result"
    }
   ],
   "source": [
    "type(iterador)"
   ]
  },
  {
   "cell_type": "code",
   "execution_count": 13,
   "id": "c1ba2622-6813-44d1-bc4f-9d35b0b98a32",
   "metadata": {},
   "outputs": [
    {
     "data": {
      "text/plain": [
       "True"
      ]
     },
     "execution_count": 13,
     "metadata": {},
     "output_type": "execute_result"
    }
   ],
   "source": [
    "hasattr(iterador, \"__next__\")\n"
   ]
  },
  {
   "cell_type": "code",
   "execution_count": 14,
   "id": "0ff0cb79-6410-48fd-b63e-870bdda0ae87",
   "metadata": {},
   "outputs": [
    {
     "data": {
      "text/plain": [
       "'1'"
      ]
     },
     "execution_count": 14,
     "metadata": {},
     "output_type": "execute_result"
    }
   ],
   "source": [
    "next(iterador)"
   ]
  },
  {
   "cell_type": "code",
   "execution_count": 15,
   "id": "a5393565-0edc-49d9-a97b-53783d831f8b",
   "metadata": {},
   "outputs": [
    {
     "data": {
      "text/plain": [
       "2"
      ]
     },
     "execution_count": 15,
     "metadata": {},
     "output_type": "execute_result"
    }
   ],
   "source": [
    "next(iterador)"
   ]
  },
  {
   "cell_type": "code",
   "execution_count": 16,
   "id": "e3d3b4b1-4fd7-4bfe-bb56-55f59ef48856",
   "metadata": {},
   "outputs": [
    {
     "data": {
      "text/plain": [
       "'tres'"
      ]
     },
     "execution_count": 16,
     "metadata": {},
     "output_type": "execute_result"
    }
   ],
   "source": [
    "next(iterador)"
   ]
  },
  {
   "cell_type": "code",
   "execution_count": 17,
   "id": "2ab5be63-c304-4e50-9dab-06aa03b14154",
   "metadata": {},
   "outputs": [
    {
     "data": {
      "text/plain": [
       "4.0"
      ]
     },
     "execution_count": 17,
     "metadata": {},
     "output_type": "execute_result"
    }
   ],
   "source": [
    "next(iterador)"
   ]
  },
  {
   "cell_type": "code",
   "execution_count": 18,
   "id": "2206bcac-f8f2-4984-8e06-fe8d5eee18d4",
   "metadata": {},
   "outputs": [
    {
     "ename": "StopIteration",
     "evalue": "",
     "output_type": "error",
     "traceback": [
      "\u001b[1;31m---------------------------------------------------------------------------\u001b[0m",
      "\u001b[1;31mStopIteration\u001b[0m                             Traceback (most recent call last)",
      "\u001b[1;32m<ipython-input-18-2389250a88e0>\u001b[0m in \u001b[0;36m<module>\u001b[1;34m\u001b[0m\n\u001b[1;32m----> 1\u001b[1;33m \u001b[0mnext\u001b[0m\u001b[1;33m(\u001b[0m\u001b[0miterador\u001b[0m\u001b[1;33m)\u001b[0m\u001b[1;33m\u001b[0m\u001b[1;33m\u001b[0m\u001b[0m\n\u001b[0m",
      "\u001b[1;31mStopIteration\u001b[0m: "
     ]
    }
   ],
   "source": [
    "next(iterador)"
   ]
  },
  {
   "cell_type": "code",
   "execution_count": 19,
   "id": "ede8a752-4faa-4922-9b96-2b6b2ae84549",
   "metadata": {},
   "outputs": [
    {
     "name": "stdout",
     "output_type": "stream",
     "text": [
      "1\n",
      "2\n",
      "tres\n",
      "4.0\n"
     ]
    }
   ],
   "source": [
    "for i in ['1', 2, 'tres', 4.0]:\n",
    "    print(i)"
   ]
  },
  {
   "cell_type": "code",
   "execution_count": 20,
   "id": "2a6ecc43-1422-4e99-ad58-6ee53c8daa37",
   "metadata": {},
   "outputs": [
    {
     "name": "stdout",
     "output_type": "stream",
     "text": [
      "1\n",
      "2\n",
      "tres\n",
      "4.0\n"
     ]
    }
   ],
   "source": [
    "# sería similar a lo que sigue:\n",
    "iterador = ['1', 2, 'tres', 4.0].__iter__()\n",
    "while True:\n",
    "    try: \n",
    "        i = iterador.__next__()\n",
    "        print(i)\n",
    "    except StopIteration:\n",
    "        break"
   ]
  },
  {
   "cell_type": "code",
   "execution_count": null,
   "id": "c7fa9572-8cd0-4a35-a39f-31125695eee7",
   "metadata": {},
   "outputs": [],
   "source": []
  }
 ],
 "metadata": {
  "kernelspec": {
   "display_name": "Python 3",
   "language": "python",
   "name": "python3"
  },
  "language_info": {
   "codemirror_mode": {
    "name": "ipython",
    "version": 3
   },
   "file_extension": ".py",
   "mimetype": "text/x-python",
   "name": "python",
   "nbconvert_exporter": "python",
   "pygments_lexer": "ipython3",
   "version": "3.8.8"
  }
 },
 "nbformat": 4,
 "nbformat_minor": 5
}
